{
 "cells": [
  {
   "cell_type": "code",
   "execution_count": 2,
   "metadata": {},
   "outputs": [
    {
     "name": "stderr",
     "output_type": "stream",
     "text": [
      "/Users/bernardocarvalho/Desktop/imperial_repos/work_based_project/venv/lib/python3.11/site-packages/tqdm/auto.py:21: TqdmWarning: IProgress not found. Please update jupyter and ipywidgets. See https://ipywidgets.readthedocs.io/en/stable/user_install.html\n",
      "  from .autonotebook import tqdm as notebook_tqdm\n"
     ]
    },
    {
     "name": "stdout",
     "output_type": "stream",
     "text": [
      "Token is valid (permission: read).\n",
      "Your token has been saved in your configured git credential helpers (osxkeychain).\n",
      "Your token has been saved to /Users/bernardocarvalho/.cache/huggingface/token\n",
      "Login successful\n"
     ]
    }
   ],
   "source": [
    "from huggingface_hub import login\n",
    "import os\n",
    "import dotenv\n",
    "\n",
    "dotenv.load_dotenv()\n",
    "\n",
    "token = os.getenv('PALIGEMMATOKEN')\n",
    "\n",
    "login(token=token, add_to_git_credential=True)"
   ]
  },
  {
   "cell_type": "code",
   "execution_count": 3,
   "metadata": {},
   "outputs": [
    {
     "name": "stderr",
     "output_type": "stream",
     "text": [
      "`config.hidden_act` is ignored, you should use `config.hidden_activation` instead.\n",
      "Gemma's activation function will be set to `gelu_pytorch_tanh`. Please, use\n",
      "`config.hidden_activation` if you want to override this behaviour.\n",
      "See https://github.com/huggingface/transformers/pull/29402 for more details.\n",
      "Loading checkpoint shards: 100%|██████████| 3/3 [00:35<00:00, 11.77s/it]\n"
     ]
    }
   ],
   "source": [
    "from transformers import AutoProcessor, PaliGemmaForConditionalGeneration\n",
    "import requests\n",
    "import torch\n",
    "from PIL import Image\n",
    "\n",
    "# Select which model to use\n",
    "model_id = 'google/paligemma-3b-mix-224'\n",
    "\n",
    "\n",
    "# Setting up the initial model\n",
    "model = PaliGemmaForConditionalGeneration.from_pretrained(model_id)\n",
    "processor = AutoProcessor.from_pretrained(model_id)\n"
   ]
  },
  {
   "cell_type": "code",
   "execution_count": 7,
   "metadata": {},
   "outputs": [
    {
     "name": "stderr",
     "output_type": "stream",
     "text": [
      "python(99543) MallocStackLogging: can't turn off malloc stack logging because it was not enabled.\n",
      "huggingface/tokenizers: The current process just got forked, after parallelism has already been used. Disabling parallelism to avoid deadlocks...\n",
      "To disable this warning, you can either:\n",
      "\t- Avoid using `tokenizers` before the fork if possible\n",
      "\t- Explicitly set the environment variable TOKENIZERS_PARALLELISM=(true | false)\n",
      "python(99546) MallocStackLogging: can't turn off malloc stack logging because it was not enabled.\n",
      "huggingface/tokenizers: The current process just got forked, after parallelism has already been used. Disabling parallelism to avoid deadlocks...\n",
      "To disable this warning, you can either:\n",
      "\t- Avoid using `tokenizers` before the fork if possible\n",
      "\t- Explicitly set the environment variable TOKENIZERS_PARALLELISM=(true | false)\n"
     ]
    }
   ],
   "source": [
    "# Testing for a generaric image\n",
    "\n",
    "# Do a test image with copper\n",
    "test_image = '../data/uploaded_images/30001/IMG_0651.jpg'\n",
    "\n",
    "#Import the raw image\n",
    "raw_image = Image.open(test_image)\n",
    "\n",
    "# Show the image\n",
    "raw_image.show()"
   ]
  },
  {
   "cell_type": "code",
   "execution_count": 5,
   "metadata": {},
   "outputs": [
    {
     "name": "stdout",
     "output_type": "stream",
     "text": [
      "\n",
      "yes\n"
     ]
    }
   ],
   "source": [
    "prompt = 'Are there containers in the image?'\n",
    "\n",
    "# Generate the inputs\n",
    "inputs = processor(prompt, raw_image, return_tensors=\"pt\")\n",
    "\n",
    "# Generate the outputs\n",
    "outputs = model.generate(**inputs, max_new_tokens=250)\n",
    "\n",
    "# Print the outputs\n",
    "print(processor.decode(outputs[0], skip_special_tokens=True)[len(prompt):])"
   ]
  },
  {
   "cell_type": "code",
   "execution_count": 11,
   "metadata": {},
   "outputs": [
    {
     "ename": "SyntaxError",
     "evalue": "positional argument follows keyword argument unpacking (646535165.py, line 14)",
     "output_type": "error",
     "traceback": [
      "\u001b[0;36m  Cell \u001b[0;32mIn[11], line 14\u001b[0;36m\u001b[0m\n\u001b[0;31m    inputs = processor(**prompts, raw_image, return_tensors=\"pt\")\u001b[0m\n\u001b[0m                                                                ^\u001b[0m\n\u001b[0;31mSyntaxError\u001b[0m\u001b[0;31m:\u001b[0m positional argument follows keyword argument unpacking\n"
     ]
    }
   ],
   "source": [
    "# prompt = \"how many containers are in the image?\"\n",
    "\n",
    "# prompts = \\\n",
    "#     [ \"Are there containers in the image?\"\n",
    "#     , \"How many containers are there in the image?\"\n",
    "#     , \"What is the color of the material inside the containers?\"\n",
    "#     , \"Is the material in coils?\"\n",
    "#     , \"Is the material oxidized?\"\n",
    "#     , \"Is the material bright?\"\n",
    "#     , \"Is the material in sheets?\"\n",
    "#     , \"Is the material in granules?\"]\n",
    "\n",
    "# prompt = \"how many containers are in the image?\"\n",
    "\n",
    "# prompts = [\n",
    "#     \"Are there containers in the image?\",\n",
    "#     \"How many containers are there in the image?\",\n",
    "#     \"What is the color of the material inside the containers?\",\n",
    "#     \"Is the material in coils?\",\n",
    "#     \"Is the material oxidized?\",\n",
    "#     \"Is the material bright?\",\n",
    "#     \"Is the material in sheets?\",\n",
    "#     \"Is the material in granules?\"\n",
    "# ]\n",
    "\n",
    "# # Generate the inputs\n",
    "# inputs = processor(raw_image, prompts, return_tensors=\"pt\")\n",
    "\n",
    "# # Generate the outputs\n",
    "# outputs = model.generate(**inputs, max_new_tokens=250)\n",
    "\n",
    "# # Print the outputs\n",
    "# print(processor.decode(outputs[0], skip_special_tokens=True)[len(prompt):])"
   ]
  },
  {
   "cell_type": "markdown",
   "metadata": {},
   "source": []
  },
  {
   "cell_type": "code",
   "execution_count": 6,
   "metadata": {},
   "outputs": [
    {
     "data": {
      "text/plain": [
       "[\"\\n'silver or gray\", '\\ndirty or oxidized', '\\nsheets or profiles']"
      ]
     },
     "execution_count": 6,
     "metadata": {},
     "output_type": "execute_result"
    }
   ],
   "source": [
    "prompt_1 = \"What color category would you give to the metal scrap in the image? Select from the following options: 'red or brown', 'yellow or golden', 'silver or gray'\"\n",
    "\n",
    "prompt_2 = \"What surface aspect would you give to the metal scrap in the image? Select from the following options: 'shiny or clean', 'dirty or oxidized', 'painted or lacquered'\"\n",
    "\n",
    "prompt_3 = \"In what shape is the metal scrap in the image? Select from the following options: 'wires or cables', 'sheets or profiles', 'pipes or bars', 'miscellaneous'\"\n",
    "\n",
    "\n",
    "\n",
    "prompts = \\\n",
    "    [ prompt_1, prompt_2, prompt_3]\n",
    "\n",
    "answers = []\n",
    "\n",
    "for prompt in prompts:\n",
    "    inputs = processor(prompt, raw_image, return_tensors=\"pt\")\n",
    "    outputs = model.generate(**inputs, max_new_tokens=250)\n",
    "    answers.append(processor.decode(outputs[0], skip_special_tokens=True)[len(prompt):])\n",
    "\n",
    "answers"
   ]
  },
  {
   "cell_type": "code",
   "execution_count": 9,
   "metadata": {},
   "outputs": [
    {
     "name": "stderr",
     "output_type": "stream",
     "text": [
      "python(99600) MallocStackLogging: can't turn off malloc stack logging because it was not enabled.\n",
      "huggingface/tokenizers: The current process just got forked, after parallelism has already been used. Disabling parallelism to avoid deadlocks...\n",
      "To disable this warning, you can either:\n",
      "\t- Avoid using `tokenizers` before the fork if possible\n",
      "\t- Explicitly set the environment variable TOKENIZERS_PARALLELISM=(true | false)\n",
      "python(99601) MallocStackLogging: can't turn off malloc stack logging because it was not enabled.\n",
      "huggingface/tokenizers: The current process just got forked, after parallelism has already been used. Disabling parallelism to avoid deadlocks...\n",
      "To disable this warning, you can either:\n",
      "\t- Avoid using `tokenizers` before the fork if possible\n",
      "\t- Explicitly set the environment variable TOKENIZERS_PARALLELISM=(true | false)\n"
     ]
    }
   ],
   "source": [
    "# Testing for a generaric image\n",
    "\n",
    "# Do a test image with copper\n",
    "test_image = '../images/Copper-Plant-Mineral.webp'\n",
    "\n",
    "#Import the raw image\n",
    "raw_image = Image.open(test_image)\n",
    "\n",
    "# Show the image\n",
    "raw_image.show()"
   ]
  },
  {
   "cell_type": "markdown",
   "metadata": {},
   "source": [
    "Trying again with a clearer picture"
   ]
  },
  {
   "cell_type": "code",
   "execution_count": 10,
   "metadata": {},
   "outputs": [
    {
     "data": {
      "text/plain": [
       "[\"\\n'red or brown\", \"\\n'shiny or clean\", '\\npipes or bars']"
      ]
     },
     "execution_count": 10,
     "metadata": {},
     "output_type": "execute_result"
    }
   ],
   "source": [
    "prompt_1 = \"What color category would you give to the metal scrap in the image? Select from the following options: 'red or brown', 'yellow or golden', 'silver or gray'\"\n",
    "\n",
    "prompt_2 = \"What surface aspect would you give to the metal scrap in the image? Select from the following options: 'shiny or clean', 'dirty or oxidized', 'painted or lacquered'\"\n",
    "\n",
    "prompt_3 = \"In what shape is the metal scrap in the image? Select from the following options: 'wires or cables', 'sheets or profiles', 'pipes or bars', 'miscellaneous'\"\n",
    "\n",
    "\n",
    "\n",
    "prompts = \\\n",
    "    [ prompt_1, prompt_2, prompt_3]\n",
    "\n",
    "answers = []\n",
    "\n",
    "for prompt in prompts:\n",
    "    inputs = processor(prompt, raw_image, return_tensors=\"pt\")\n",
    "    outputs = model.generate(**inputs, max_new_tokens=250)\n",
    "    answers.append(processor.decode(outputs[0], skip_special_tokens=True)[len(prompt):])\n",
    "\n",
    "answers"
   ]
  },
  {
   "cell_type": "markdown",
   "metadata": {},
   "source": [
    "We see that with a clear picture the results of the image recognition ai is good.\n",
    "\n",
    "Recall that this model can be fine-tuned to a specific need with the use of image recognition."
   ]
  }
 ],
 "metadata": {
  "kernelspec": {
   "display_name": "venv",
   "language": "python",
   "name": "python3"
  },
  "language_info": {
   "codemirror_mode": {
    "name": "ipython",
    "version": 3
   },
   "file_extension": ".py",
   "mimetype": "text/x-python",
   "name": "python",
   "nbconvert_exporter": "python",
   "pygments_lexer": "ipython3",
   "version": "3.11.7"
  }
 },
 "nbformat": 4,
 "nbformat_minor": 2
}
