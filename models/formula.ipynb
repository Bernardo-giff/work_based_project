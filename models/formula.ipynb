{
 "cells": [
  {
   "cell_type": "code",
   "execution_count": 1,
   "metadata": {},
   "outputs": [
    {
     "name": "stdout",
     "output_type": "stream",
     "text": [
      "[('variable', 'LME'), ('constant', 280), ('variable', 'eur')]\n"
     ]
    }
   ],
   "source": [
    "import re\n",
    "\n",
    "def parse_formula(formula_text):\n",
    "    # Tokenization using regular expressions\n",
    "    tokens = re.findall(r'\\b(?:[a-zA-Z]+|\\d+|\\S)\\b', formula_text)\n",
    "    \n",
    "    # Parsing and building structured formula\n",
    "    structured_formula = []\n",
    "    for token in tokens:\n",
    "        if token.isdigit():\n",
    "            structured_formula.append(('constant', int(token)))\n",
    "        elif token.isalpha():\n",
    "            structured_formula.append(('variable', token))\n",
    "        else:\n",
    "            structured_formula.append(('operator', token))\n",
    "    \n",
    "    return structured_formula\n",
    "\n",
    "# Example usage\n",
    "formula_text = \"LME + 280 eur\"\n",
    "structured_formula = parse_formula(formula_text)\n",
    "print(structured_formula)"
   ]
  },
  {
   "cell_type": "code",
   "execution_count": 8,
   "metadata": {},
   "outputs": [],
   "source": [
    "import pandas as pd\n",
    "import os\n",
    "\n",
    "path = os.path.join('../data_git', 'cart_items.csv')\n",
    "cart_items = pd.read_csv(path)"
   ]
  },
  {
   "cell_type": "code",
   "execution_count": 23,
   "metadata": {},
   "outputs": [
    {
     "data": {
      "text/plain": [
       "0.9903524443722592"
      ]
     },
     "execution_count": 23,
     "metadata": {},
     "output_type": "execute_result"
    }
   ],
   "source": [
    "cart_items['ds_sale_price_formula'].isna().mean()"
   ]
  },
  {
   "cell_type": "markdown",
   "metadata": {},
   "source": [
    "Only about 1% of the data has formulas"
   ]
  }
 ],
 "metadata": {
  "kernelspec": {
   "display_name": "venv",
   "language": "python",
   "name": "python3"
  },
  "language_info": {
   "codemirror_mode": {
    "name": "ipython",
    "version": 3
   },
   "file_extension": ".py",
   "mimetype": "text/x-python",
   "name": "python",
   "nbconvert_exporter": "python",
   "pygments_lexer": "ipython3",
   "version": "3.11.7"
  }
 },
 "nbformat": 4,
 "nbformat_minor": 2
}
