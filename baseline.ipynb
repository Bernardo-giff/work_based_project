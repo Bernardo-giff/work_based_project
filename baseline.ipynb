{
 "cells": [
  {
   "cell_type": "markdown",
   "metadata": {},
   "source": [
    "# Baseline model\n",
    "\n",
    "The first step is to load the data extracted from our transactional data (warehouse)\n",
    "The queries used are saved in this repo for documentation purposes."
   ]
  },
  {
   "cell_type": "code",
   "execution_count": 8,
   "metadata": {},
   "outputs": [],
   "source": [
    "import pandas as pd\n",
    "import numpy as np\n",
    "import matplotlib.pyplot as plt\n",
    "\n",
    "# Load the data\n",
    "cart_items = pd.read_csv('data_git/cart_items.csv')\n"
   ]
  },
  {
   "cell_type": "markdown",
   "metadata": {},
   "source": [
    "A bit about how the data is structured at Metaloop. We essentially have these sources of trasactional material data:\n",
    "\n",
    " - Cart items\n",
    "    - These are the materials that compose a transaction (stored in the orders object). Each order is associated with two accounts, a seller and a buyer. Therefore, the lowest granularity data here will be cart item level data with data from the orders joined\n",
    " - Opportunity materials\n",
    "    - These play a similar role as cart items, but on the opportunity level (prior to an order being put forward)\n",
    "   \n",
    " - Conditions (Contract materials)\n",
    "\n",
    "For the purpose of this baseline model, we will use only cart items data, which is our most comprehensive database.\n",
    " "
   ]
  },
  {
   "cell_type": "markdown",
   "metadata": {},
   "source": [
    "## Simple bag of words model\n",
    "\n",
    "With a simple bag of words model, we try to extract features from the alias, material and formula fields. Our target variable is the variable product_id, which is a class corresponding to the underlying product related to the material. This is encoded by the class in the `fk_material` column.\n",
    "\n",
    "### The training of an NLP model\n",
    "\n",
    "1. Preprocessing the text\n",
    "2. Vectozing the text\n",
    "3. Choose appropriate ML model to train"
   ]
  },
  {
   "cell_type": "code",
   "execution_count": 9,
   "metadata": {},
   "outputs": [],
   "source": [
    "# Change ds_material_alias to string\n",
    "cart_items['ds_material_alias'] = cart_items['ds_material_alias'].astype(str)"
   ]
  },
  {
   "cell_type": "markdown",
   "metadata": {},
   "source": [
    "Next, we define functions to extract metadata about the text of the alias names"
   ]
  },
  {
   "cell_type": "code",
   "execution_count": 10,
   "metadata": {},
   "outputs": [
    {
     "data": {
      "text/html": [
       "<div>\n",
       "<style scoped>\n",
       "    .dataframe tbody tr th:only-of-type {\n",
       "        vertical-align: middle;\n",
       "    }\n",
       "\n",
       "    .dataframe tbody tr th {\n",
       "        vertical-align: top;\n",
       "    }\n",
       "\n",
       "    .dataframe thead th {\n",
       "        text-align: right;\n",
       "    }\n",
       "</style>\n",
       "<table border=\"1\" class=\"dataframe\">\n",
       "  <thead>\n",
       "    <tr style=\"text-align: right;\">\n",
       "      <th></th>\n",
       "      <th>ds_sale_price_formula</th>\n",
       "      <th>ds_purchase_price_formula</th>\n",
       "      <th>ds_material_alias</th>\n",
       "      <th>vl_quantity_sell</th>\n",
       "      <th>vl_unit_price_sell</th>\n",
       "      <th>fk_material</th>\n",
       "      <th>cd_alias_language</th>\n",
       "      <th>cd_product_id</th>\n",
       "      <th>lower(ds_category_en)</th>\n",
       "      <th>lower(ds_record_type_name)</th>\n",
       "      <th>flg_has_perc</th>\n",
       "      <th>n_words_alias</th>\n",
       "    </tr>\n",
       "  </thead>\n",
       "  <tbody>\n",
       "    <tr>\n",
       "      <th>0</th>\n",
       "      <td>NaN</td>\n",
       "      <td>NaN</td>\n",
       "      <td>Kupfer Raff Granulat</td>\n",
       "      <td>2163.0</td>\n",
       "      <td>6.10000</td>\n",
       "      <td>a0Z09000000H7jvEAC</td>\n",
       "      <td>de</td>\n",
       "      <td>60001.0</td>\n",
       "      <td>copper</td>\n",
       "      <td>wholesale - europe domestic</td>\n",
       "      <td>False</td>\n",
       "      <td>3</td>\n",
       "    </tr>\n",
       "    <tr>\n",
       "      <th>1</th>\n",
       "      <td>NaN</td>\n",
       "      <td>NaN</td>\n",
       "      <td>Kupfer-Nickel, blank</td>\n",
       "      <td>17500.0</td>\n",
       "      <td>13.18583</td>\n",
       "      <td>a0Z09000005Ecu7EAC</td>\n",
       "      <td>de</td>\n",
       "      <td>600041.0</td>\n",
       "      <td>copper</td>\n",
       "      <td>wholesale - europe domestic</td>\n",
       "      <td>False</td>\n",
       "      <td>2</td>\n",
       "    </tr>\n",
       "    <tr>\n",
       "      <th>2</th>\n",
       "      <td>NaN</td>\n",
       "      <td>NaN</td>\n",
       "      <td>Edelstahl, V2A, Nirosta, Niro</td>\n",
       "      <td>14560.0</td>\n",
       "      <td>2.01000</td>\n",
       "      <td>a0Z09000000oVRUEA2</td>\n",
       "      <td>de</td>\n",
       "      <td>18037.0</td>\n",
       "      <td>stainless steel</td>\n",
       "      <td>wholesale - europe domestic</td>\n",
       "      <td>False</td>\n",
       "      <td>4</td>\n",
       "    </tr>\n",
       "    <tr>\n",
       "      <th>3</th>\n",
       "      <td>NaN</td>\n",
       "      <td>NaN</td>\n",
       "      <td>Edelstahl, V2A, Nirosta, Niro</td>\n",
       "      <td>1484.0</td>\n",
       "      <td>2.06000</td>\n",
       "      <td>a0Z09000000oVRUEA2</td>\n",
       "      <td>de</td>\n",
       "      <td>18037.0</td>\n",
       "      <td>stainless steel</td>\n",
       "      <td>wholesale - europe domestic</td>\n",
       "      <td>False</td>\n",
       "      <td>4</td>\n",
       "    </tr>\n",
       "    <tr>\n",
       "      <th>4</th>\n",
       "      <td>NaN</td>\n",
       "      <td>NaN</td>\n",
       "      <td>Edelstahl, V4A Schrott</td>\n",
       "      <td>5980.0</td>\n",
       "      <td>2.80000</td>\n",
       "      <td>a0Z09000000oVWZEA2</td>\n",
       "      <td>de</td>\n",
       "      <td>18039.0</td>\n",
       "      <td>stainless steel</td>\n",
       "      <td>wholesale - europe domestic</td>\n",
       "      <td>False</td>\n",
       "      <td>3</td>\n",
       "    </tr>\n",
       "  </tbody>\n",
       "</table>\n",
       "</div>"
      ],
      "text/plain": [
       "  ds_sale_price_formula ds_purchase_price_formula  \\\n",
       "0                   NaN                       NaN   \n",
       "1                   NaN                       NaN   \n",
       "2                   NaN                       NaN   \n",
       "3                   NaN                       NaN   \n",
       "4                   NaN                       NaN   \n",
       "\n",
       "               ds_material_alias  vl_quantity_sell  vl_unit_price_sell  \\\n",
       "0           Kupfer Raff Granulat            2163.0             6.10000   \n",
       "1           Kupfer-Nickel, blank           17500.0            13.18583   \n",
       "2  Edelstahl, V2A, Nirosta, Niro           14560.0             2.01000   \n",
       "3  Edelstahl, V2A, Nirosta, Niro            1484.0             2.06000   \n",
       "4         Edelstahl, V4A Schrott            5980.0             2.80000   \n",
       "\n",
       "          fk_material cd_alias_language  cd_product_id lower(ds_category_en)  \\\n",
       "0  a0Z09000000H7jvEAC                de        60001.0                copper   \n",
       "1  a0Z09000005Ecu7EAC                de       600041.0                copper   \n",
       "2  a0Z09000000oVRUEA2                de        18037.0       stainless steel   \n",
       "3  a0Z09000000oVRUEA2                de        18037.0       stainless steel   \n",
       "4  a0Z09000000oVWZEA2                de        18039.0       stainless steel   \n",
       "\n",
       "    lower(ds_record_type_name)  flg_has_perc  n_words_alias  \n",
       "0  wholesale - europe domestic         False              3  \n",
       "1  wholesale - europe domestic         False              2  \n",
       "2  wholesale - europe domestic         False              4  \n",
       "3  wholesale - europe domestic         False              4  \n",
       "4  wholesale - europe domestic         False              3  "
      ]
     },
     "execution_count": 10,
     "metadata": {},
     "output_type": "execute_result"
    }
   ],
   "source": [
    "# Define function to count words\n",
    "def count_words(string):\n",
    "    return len(string.split())\n",
    "\n",
    "# Define function to get the average word length\n",
    "def avg_word_length(string):\n",
    "    words = string.split()\n",
    "    return sum(len(word) for word in words) / len(words)\n",
    "\n",
    "# Check if the description has the percentage symbol\n",
    "cart_items['flg_has_perc'] = cart_items['ds_material_alias'].apply(lambda x: len([c for c in x if c == '%'])>0)\n",
    "\n",
    "# Create number of words for the two columns available\n",
    "cart_items['n_words_alias'] = cart_items['ds_material_alias'].apply(count_words)\n",
    "\n",
    "# Inspect results\n",
    "cart_items.head()\n"
   ]
  },
  {
   "cell_type": "code",
   "execution_count": 11,
   "metadata": {},
   "outputs": [],
   "source": [
    "# converting the data to lower case\n",
    "cart_items['ds_material_alias'] = cart_items['ds_material_alias'].str.lower()\n",
    "\n",
    "# Removing the leading and trailing whitespaces\n",
    "cart_items['ds_material_alias'] = cart_items['ds_material_alias'].str.strip()"
   ]
  },
  {
   "cell_type": "markdown",
   "metadata": {},
   "source": [
    "## Formula parsing\n"
   ]
  },
  {
   "cell_type": "code",
   "execution_count": 12,
   "metadata": {},
   "outputs": [
    {
     "name": "stdout",
     "output_type": "stream",
     "text": [
      "\n",
      "    avg_1: 0.9882225823878984\n",
      "    avg_2: 0.0\n"
     ]
    }
   ],
   "source": [
    "avg_1 = np.mean(cart_items['ds_sale_price_formula'].isna())\n",
    "\n",
    "avg_2 = np.mean(cart_items['ds_purchase_price_formula'] == 'nan')\n",
    "\n",
    "print(\n",
    "    \"\"\"\n",
    "    avg_1: {}\n",
    "    avg_2: {}\"\"\".format(avg_1, avg_2)\n",
    ")"
   ]
  },
  {
   "cell_type": "code",
   "execution_count": 13,
   "metadata": {},
   "outputs": [],
   "source": [
    "import sys\n",
    "\n",
    "module_path = 'models'\n",
    "sys.path.append(module_path)\n",
    "\n",
    "# Import the functions from the python file\n",
    "import formula_parsing_function as fpf\n",
    "\n",
    "# Apply the functions to the column\n",
    "\n",
    "# Change formula type to\n",
    "cart_items['ds_sale_price_formula'] = cart_items['ds_sale_price_formula'].astype(str)\n",
    "\n",
    "# Detect currency\n",
    "cart_items['currency'] = cart_items['ds_sale_price_formula'].apply(fpf.detect_currency)\n",
    "\n",
    "# Get operator\n",
    "cart_items['operator'] = cart_items['ds_sale_price_formula'].apply(fpf.detect_operator)\n",
    "\n",
    "# Get index\n",
    "cart_items['index'] = cart_items['ds_sale_price_formula'].apply(fpf.detect_index)\n",
    "\n",
    "# Get constant\n",
    "cart_items['constant'] = cart_items['ds_sale_price_formula'].apply(fpf.detect_constant)\n",
    "\n",
    "# Convert to float\n",
    "cart_items['constant'] = cart_items['constant'].apply(fpf.convert_constant)\n",
    "\n",
    "# Get unit\n",
    "cart_items['unit'] = cart_items['ds_sale_price_formula'].apply(fpf.detect_unit)\n",
    "\n",
    "# Identify if the price is fixed\n",
    "cart_items['fixed_price'] = cart_items['ds_sale_price_formula'].str.contains('fix')"
   ]
  },
  {
   "cell_type": "markdown",
   "metadata": {},
   "source": [
    "### End of preprocessing\n",
    "----\n",
    "\n",
    "### Vectorization\n",
    "\n",
    "Now that we have done the pre-processing of the text, we can work on vectorizing it. We will apply three simple methods to arrive at the baseline for the feature extraction of the text."
   ]
  },
  {
   "cell_type": "markdown",
   "metadata": {},
   "source": [
    "## Training\n",
    "\n",
    "We will start now training the baseline model"
   ]
  },
  {
   "cell_type": "code",
   "execution_count": 25,
   "metadata": {},
   "outputs": [
    {
     "name": "stdout",
     "output_type": "stream",
     "text": [
      "Mean Squared Error:  2510.5942018141395\n"
     ]
    },
    {
     "data": {
      "image/png": "[encoded data removed]",
      "text/plain": [
       "<Figure size 640x480 with 1 Axes>"
      ]
     },
     "metadata": {},
     "output_type": "display_data"
    }
   ],
   "source": [
    "import numpy as np\n",
    "import matplotlib.pyplot as plt\n",
    "from sklearn.model_selection import train_test_split\n",
    "from sklearn.preprocessing import OrdinalEncoder\n",
    "from sklearn.ensemble import RandomForestRegressor\n",
    "from sklearn.metrics import mean_squared_error\n",
    "\n",
    "# Your original features and categorical feature indices\n",
    "features = [\n",
    "    'vl_quantity_sell', 'vl_unit_price_sell', 'currency', 'operator', 'index',\n",
    "    'constant', 'unit', 'fixed_price'\n",
    "]\n",
    "\n",
    "categorical_features = [2, 3, 4, 6]  # Column indices of categorical features\n",
    "\n",
    "label = ['fk_material']\n",
    "\n",
    "# For categorical features, we can fill missing values with 'missing'\n",
    "cart_items[['currency', 'operator', 'index', 'unit']] = cart_items[['currency', 'operator', 'index', 'unit']].fillna('missing')\n",
    "\n",
    "# For numerical features, we can fill missing values with a statistic (here, I'm using zero)\n",
    "cart_items[['vl_quantity_sell', 'vl_unit_price_sell', 'constant']] = cart_items[['vl_quantity_sell', 'vl_unit_price_sell', 'constant']].fillna(0)\n",
    "\n",
    "# Declare the features and the label\n",
    "X = cart_items[features].to_numpy()\n",
    "y = cart_items[label].to_numpy()\n",
    "\n",
    "# Split the data into training and testing\n",
    "X_train, X_test, y_train, y_test = train_test_split(X, y, test_size=0.2, random_state=42)\n",
    "\n",
    "# Encode the categorical features using OrdinalEncoder\n",
    "oe = OrdinalEncoder(handle_unknown='use_encoded_value', unknown_value=-1)\n",
    "\n",
    "# Fit and transform the training data\n",
    "X_train[:, categorical_features] = oe.fit_transform(X_train[:, categorical_features])\n",
    "\n",
    "# Transform the testing data\n",
    "X_test[:, categorical_features] = oe.transform(X_test[:, categorical_features])\n",
    "\n",
    "# Fit and transform the tagets\n",
    "y_train = oe.fit_transform(y_train)\n",
    "y_test = oe.transform(y_test)\n",
    "\n",
    "# Import the model and instantiate it\n",
    "rf = RandomForestRegressor()\n",
    "\n",
    "# Fit the model\n",
    "rf.fit(X_train, y_train.ravel())  # Flatten y_train since it has the shape (n_samples, 1)\n",
    "\n",
    "# Predict the model\n",
    "y_pred = rf.predict(X_test)\n",
    "\n",
    "# Calculate the mean squared error\n",
    "mse = mean_squared_error(y_test, y_pred)\n",
    "\n",
    "print(\"Mean Squared Error: \", mse)\n",
    "\n",
    "# Plot feature importance\n",
    "importances = rf.feature_importances_\n",
    "indices = np.argsort(importances)[::-1]\n",
    "\n",
    "plt.figure()\n",
    "plt.title(\"Feature importances\")\n",
    "plt.bar(range(X.shape[1]), importances[indices], align=\"center\")\n",
    "plt.xticks(range(X.shape[1]), np.array(features)[indices], rotation=90)\n",
    "plt.xlim([-1, X.shape[1]])\n",
    "plt.show()"
   ]
  }
 ],
 "metadata": {
  "kernelspec": {
   "display_name": "venv",
   "language": "python",
   "name": "python3"
  },
  "language_info": {
   "codemirror_mode": {
    "name": "ipython",
    "version": 3
   },
   "file_extension": ".py",
   "mimetype": "text/x-python",
   "name": "python",
   "nbconvert_exporter": "python",
   "pygments_lexer": "ipython3",
   "version": "3.11.7"
  }
 },
 "nbformat": 4,
 "nbformat_minor": 2
}
